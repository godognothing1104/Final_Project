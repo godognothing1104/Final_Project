{
 "cells": [
  {
   "cell_type": "code",
   "execution_count": 2,
   "id": "initial_id",
   "metadata": {
    "collapsed": true,
    "ExecuteTime": {
     "end_time": "2024-12-05T11:57:08.664073Z",
     "start_time": "2024-12-05T11:57:00.222576Z"
    }
   },
   "outputs": [],
   "source": [
    "import tensorflow as tf\n",
    "from tensorflow.keras import layers, models\n",
    "import numpy as np\n",
    "from PIL import ImageGrab, Image\n",
    "from tkinter import *\n",
    "\n",
    "# Define LeNet-5 model\n",
    "def create_lenet():\n",
    "    model = models.Sequential()\n",
    "    model.add(layers.Conv2D(6, (5, 5), activation='relu', input_shape=(28, 28, 1), padding='same'))\n",
    "    model.add(layers.AvgPool2D((2, 2)))\n",
    "    model.add(layers.Conv2D(16, (5, 5), activation='relu', padding='valid'))\n",
    "    model.add(layers.AvgPool2D((2, 2)))\n",
    "    model.add(layers.Flatten())\n",
    "    model.add(layers.Dense(120, activation='relu'))\n",
    "    model.add(layers.Dense(84, activation='relu'))\n",
    "    model.add(layers.Dense(10, activation='softmax'))\n",
    "    return model\n"
   ]
  },
  {
   "cell_type": "code",
   "outputs": [
    {
     "name": "stdout",
     "output_type": "stream",
     "text": [
      "Downloading data from https://storage.googleapis.com/tensorflow/tf-keras-datasets/mnist.npz\n",
      "\u001B[1m11490434/11490434\u001B[0m \u001B[32m━━━━━━━━━━━━━━━━━━━━\u001B[0m\u001B[37m\u001B[0m \u001B[1m1s\u001B[0m 0us/step\n",
      "Training data shape: (60000, 28, 28, 1) Labels shape: (60000,)\n",
      "Testing data shape: (10000, 28, 28, 1) Labels shape: (10000,)\n"
     ]
    }
   ],
   "source": [
    "# Load MNIST dataset\n",
    "(X_train, y_train), (X_test, y_test) = tf.keras.datasets.mnist.load_data()\n",
    "\n",
    "# Normalize pixel values to range [0, 1]\n",
    "X_train = X_train / 255.0\n",
    "X_test = X_test / 255.0\n",
    "\n",
    "# Reshape data for CNN input\n",
    "X_train = X_train.reshape(-1, 28, 28, 1)\n",
    "X_test = X_test.reshape(-1, 28, 28, 1)\n",
    "\n",
    "# Print shapes to confirm\n",
    "print(\"Training data shape:\", X_train.shape, \"Labels shape:\", y_train.shape)\n",
    "print(\"Testing data shape:\", X_test.shape, \"Labels shape:\", y_test.shape)\n"
   ],
   "metadata": {
    "collapsed": false,
    "ExecuteTime": {
     "end_time": "2024-12-05T11:57:10.071197Z",
     "start_time": "2024-12-05T11:57:08.666081Z"
    }
   },
   "id": "e6ebc443f5f31e3c",
   "execution_count": 3
  },
  {
   "cell_type": "code",
   "outputs": [
    {
     "name": "stderr",
     "output_type": "stream",
     "text": [
      "C:\\Users\\tgddt\\AppData\\Local\\Programs\\Python\\Python312\\Lib\\site-packages\\keras\\src\\layers\\convolutional\\base_conv.py:107: UserWarning: Do not pass an `input_shape`/`input_dim` argument to a layer. When using Sequential models, prefer using an `Input(shape)` object as the first layer in the model instead.\n",
      "  super().__init__(activity_regularizer=activity_regularizer, **kwargs)\n"
     ]
    },
    {
     "name": "stdout",
     "output_type": "stream",
     "text": [
      "Epoch 1/10\n",
      "\u001B[1m1875/1875\u001B[0m \u001B[32m━━━━━━━━━━━━━━━━━━━━\u001B[0m\u001B[37m\u001B[0m \u001B[1m11s\u001B[0m 6ms/step - accuracy: 0.8619 - loss: 0.4485 - val_accuracy: 0.9779 - val_loss: 0.0748\n",
      "Epoch 2/10\n",
      "\u001B[1m1875/1875\u001B[0m \u001B[32m━━━━━━━━━━━━━━━━━━━━\u001B[0m\u001B[37m\u001B[0m \u001B[1m11s\u001B[0m 6ms/step - accuracy: 0.9766 - loss: 0.0751 - val_accuracy: 0.9840 - val_loss: 0.0483\n",
      "Epoch 3/10\n",
      "\u001B[1m1875/1875\u001B[0m \u001B[32m━━━━━━━━━━━━━━━━━━━━\u001B[0m\u001B[37m\u001B[0m \u001B[1m11s\u001B[0m 6ms/step - accuracy: 0.9838 - loss: 0.0526 - val_accuracy: 0.9869 - val_loss: 0.0372\n",
      "Epoch 4/10\n",
      "\u001B[1m1875/1875\u001B[0m \u001B[32m━━━━━━━━━━━━━━━━━━━━\u001B[0m\u001B[37m\u001B[0m \u001B[1m11s\u001B[0m 6ms/step - accuracy: 0.9880 - loss: 0.0385 - val_accuracy: 0.9874 - val_loss: 0.0377\n",
      "Epoch 5/10\n",
      "\u001B[1m1875/1875\u001B[0m \u001B[32m━━━━━━━━━━━━━━━━━━━━\u001B[0m\u001B[37m\u001B[0m \u001B[1m12s\u001B[0m 6ms/step - accuracy: 0.9901 - loss: 0.0328 - val_accuracy: 0.9869 - val_loss: 0.0357\n",
      "Epoch 6/10\n",
      "\u001B[1m1875/1875\u001B[0m \u001B[32m━━━━━━━━━━━━━━━━━━━━\u001B[0m\u001B[37m\u001B[0m \u001B[1m11s\u001B[0m 6ms/step - accuracy: 0.9906 - loss: 0.0268 - val_accuracy: 0.9879 - val_loss: 0.0390\n",
      "Epoch 7/10\n",
      "\u001B[1m1875/1875\u001B[0m \u001B[32m━━━━━━━━━━━━━━━━━━━━\u001B[0m\u001B[37m\u001B[0m \u001B[1m12s\u001B[0m 6ms/step - accuracy: 0.9925 - loss: 0.0227 - val_accuracy: 0.9898 - val_loss: 0.0314\n",
      "Epoch 8/10\n",
      "\u001B[1m1875/1875\u001B[0m \u001B[32m━━━━━━━━━━━━━━━━━━━━\u001B[0m\u001B[37m\u001B[0m \u001B[1m12s\u001B[0m 6ms/step - accuracy: 0.9944 - loss: 0.0198 - val_accuracy: 0.9896 - val_loss: 0.0350\n",
      "Epoch 9/10\n",
      "\u001B[1m1875/1875\u001B[0m \u001B[32m━━━━━━━━━━━━━━━━━━━━\u001B[0m\u001B[37m\u001B[0m \u001B[1m16s\u001B[0m 8ms/step - accuracy: 0.9947 - loss: 0.0152 - val_accuracy: 0.9879 - val_loss: 0.0452\n",
      "Epoch 10/10\n",
      "\u001B[1m1875/1875\u001B[0m \u001B[32m━━━━━━━━━━━━━━━━━━━━\u001B[0m\u001B[37m\u001B[0m \u001B[1m17s\u001B[0m 7ms/step - accuracy: 0.9959 - loss: 0.0127 - val_accuracy: 0.9885 - val_loss: 0.0384\n"
     ]
    },
    {
     "name": "stderr",
     "output_type": "stream",
     "text": [
      "WARNING:absl:You are saving your model as an HDF5 file via `model.save()` or `keras.saving.save_model(model)`. This file format is considered legacy. We recommend using instead the native Keras format, e.g. `model.save('my_model.keras')` or `keras.saving.save_model(model, 'my_model.keras')`. \n"
     ]
    }
   ],
   "source": [
    "# Create LeNet-5 model\n",
    "model = create_lenet()\n",
    "\n",
    "# Compile the model\n",
    "model.compile(optimizer='adam',\n",
    "              loss='sparse_categorical_crossentropy',\n",
    "              metrics=['accuracy'])\n",
    "\n",
    "# Train the model\n",
    "model.fit(X_train, y_train, epochs=10, batch_size=32, validation_data=(X_test, y_test))\n",
    "\n",
    "# Save the model for later use\n",
    "model.save(\"lenet_model.h5\")\n"
   ],
   "metadata": {
    "collapsed": false,
    "ExecuteTime": {
     "end_time": "2024-12-05T11:59:14.061131Z",
     "start_time": "2024-12-05T11:57:10.072204Z"
    }
   },
   "id": "28975ce30a0d4c91",
   "execution_count": 4
  },
  {
   "cell_type": "code",
   "outputs": [
    {
     "name": "stderr",
     "output_type": "stream",
     "text": [
      "WARNING:absl:Compiled the loaded model, but the compiled metrics have yet to be built. `model.compile_metrics` will be empty until you train or evaluate the model.\n"
     ]
    }
   ],
   "source": [
    "# Load the trained model\n",
    "model = tf.keras.models.load_model(\"lenet_model.h5\")\n",
    "\n",
    "def predict_digit(img):\n",
    "    # Preprocess the image to match LeNet input requirements\n",
    "    img = img.resize((28, 28)).convert('L')  # Resize to 28x28 and convert to grayscale\n",
    "    img = np.array(img) / 255.0  # Normalize pixel values\n",
    "    img = img.reshape(1, 28, 28, 1)  # Reshape for CNN input\n",
    "\n",
    "    # Predict the digit\n",
    "    pred = model.predict(img)\n",
    "    return np.argmax(pred)  # Return the digit with the highest probability\n"
   ],
   "metadata": {
    "collapsed": false,
    "ExecuteTime": {
     "end_time": "2024-12-05T11:59:14.181732Z",
     "start_time": "2024-12-05T11:59:14.065150Z"
    }
   },
   "id": "c4294587c490ec3",
   "execution_count": 5
  },
  {
   "cell_type": "code",
   "outputs": [],
   "source": [
    "window = Tk()\n",
    "window.title(\"Handwritten digit recognition\")\n",
    "l1 = Label()\n",
    "def MyProject():\n",
    "    global l1\n",
    "\n",
    "    widget = cv\n",
    "    x = window.winfo_rootx() + widget.winfo_x()\n",
    "    y = window.winfo_rooty() + widget.winfo_y()\n",
    "    x1 = x + widget.winfo_width()\n",
    "    y1 = y + widget.winfo_height()\n",
    "\n",
    "    # Capture the canvas content and preprocess it\n",
    "    img = ImageGrab.grab().crop((x, y, x1, y1))\n",
    "    digit = predict_digit(img)\n",
    "\n",
    "    # Display the predicted digit\n",
    "    l1 = Label(window, text=\"Digit = \" + str(digit), font=('Algerian', 20))\n",
    "    l1.place(x=230, y=420)\n",
    "    img = img.convert('L')\n",
    "    img.save(\"captured_digit.png\")  # Save the captured image to inspect it\n",
    "\n",
    "\n",
    "\n",
    "# Clears the canvas\n",
    "def clear_widget():\n",
    "    global cv, l1\n",
    "    cv.delete(\"all\")\n",
    "    l1.destroy()\n",
    "\n",
    "\n",
    "# Activate canvas\n",
    "def event_activation(event):\n",
    "    global lastx, lasty\n",
    "    cv.bind('<B1-Motion>', draw_lines)\n",
    "    lastx, lasty = event.x, event.y\n",
    "\n",
    "\n",
    "# To draw on canvas\n",
    "def draw_lines(event):\n",
    "    global lastx, lasty\n",
    "    x, y = event.x, event.y\n",
    "    cv.create_line((lastx, lasty, x, y), width=30, fill='white', capstyle=ROUND, smooth=TRUE, splinesteps=12)\n",
    "    lastx, lasty = x, y\n",
    "\n",
    "\n",
    "# Label\n",
    "L1 = Label(window, text=\"Handwritten Digit Recoginition\", font=('Algerian', 25), fg=\"blue\")\n",
    "L1.place(x=35, y=10)\n",
    "\n",
    "# Button to clear canvas\n",
    "b1 = Button(window, text=\"1. Clear Canvas\", font=('Algerian', 15), bg=\"orange\", fg=\"black\", command=clear_widget)\n",
    "b1.place(x=120, y=370)\n",
    "\n",
    "# Button to predict digit drawn on canvas\n",
    "b2 = Button(window, text=\"2. Prediction\", font=('Algerian', 15), bg=\"white\", fg=\"red\", command=MyProject)\n",
    "b2.place(x=320, y=370)\n",
    "\n",
    "# Setting properties of canvas\n",
    "cv = Canvas(window, width=350, height=290, bg='black')\n",
    "cv.place(x=120, y=70)\n",
    "\n",
    "cv.bind('<Button-1>', event_activation)\n",
    "\n",
    "\n",
    "window.geometry(\"600x500\")\n",
    "window.mainloop()\n"
   ],
   "metadata": {
    "collapsed": false,
    "ExecuteTime": {
     "end_time": "2024-12-05T11:59:36.999158Z",
     "start_time": "2024-12-05T11:59:14.184813Z"
    }
   },
   "id": "c89cf459e197d2c6",
   "execution_count": 6
  }
 ],
 "metadata": {
  "kernelspec": {
   "display_name": "Python 3",
   "language": "python",
   "name": "python3"
  },
  "language_info": {
   "codemirror_mode": {
    "name": "ipython",
    "version": 2
   },
   "file_extension": ".py",
   "mimetype": "text/x-python",
   "name": "python",
   "nbconvert_exporter": "python",
   "pygments_lexer": "ipython2",
   "version": "2.7.6"
  }
 },
 "nbformat": 4,
 "nbformat_minor": 5
}
